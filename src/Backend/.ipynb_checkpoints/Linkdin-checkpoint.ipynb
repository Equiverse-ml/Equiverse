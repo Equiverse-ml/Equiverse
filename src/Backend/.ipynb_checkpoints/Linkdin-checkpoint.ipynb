{
 "cells": [
  {
   "cell_type": "code",
   "execution_count": 5,
   "metadata": {},
   "outputs": [
    {
     "name": "stderr",
     "output_type": "stream",
     "text": [
      "C:\\ArcGISPro\\bin\\Python\\envs\\arcgispro-py3\\lib\\site-packages\\ipykernel_launcher.py:5: DeprecationWarning: executable_path has been deprecated, please pass in a Service object\n",
      "  \"\"\"\n"
     ]
    }
   ],
   "source": [
    "from selenium import webdriver\n",
    " \n",
    "options = webdriver.ChromeOptions()\n",
    "options.add_argument(\"headless\")\n",
    "driver = webdriver.Chrome(executable_path=\"chromedriver.exe\")#, chrome_options=options)"
   ]
  },
  {
   "cell_type": "code",
   "execution_count": 8,
   "metadata": {},
   "outputs": [
    {
     "name": "stderr",
     "output_type": "stream",
     "text": [
      "C:\\ArcGISPro\\bin\\Python\\envs\\arcgispro-py3\\lib\\site-packages\\ipykernel_launcher.py:8: DeprecationWarning: find_element_by_* commands are deprecated. Please use find_element() instead\n",
      "  \n",
      "C:\\ArcGISPro\\bin\\Python\\envs\\arcgispro-py3\\lib\\site-packages\\ipykernel_launcher.py:9: DeprecationWarning: find_element_by_* commands are deprecated. Please use find_element() instead\n",
      "  if __name__ == '__main__':\n",
      "C:\\ArcGISPro\\bin\\Python\\envs\\arcgispro-py3\\lib\\site-packages\\ipykernel_launcher.py:10: DeprecationWarning: find_element_by_* commands are deprecated. Please use find_element() instead\n",
      "  # Remove the CWD from sys.path while we load stuff.\n"
     ]
    }
   ],
   "source": [
    "import time\n",
    "from selenium.webdriver.common.keys import Keys\n",
    "email = \"yuvarajcoder@gmail.com\"\n",
    "password = \"yuvaraj1234\"\n",
    "\n",
    "driver.get('https://www.linkedin.com/login')\n",
    "time.sleep(3)\n",
    "driver.find_element_by_id('username').send_keys(email)\n",
    "driver.find_element_by_id('password').send_keys(password)\n",
    "driver.find_element_by_id('password').send_keys(Keys.RETURN)"
   ]
  },
  {
   "cell_type": "code",
   "execution_count": 9,
   "metadata": {},
   "outputs": [
    {
     "name": "stderr",
     "output_type": "stream",
     "text": [
      "C:\\ArcGISPro\\bin\\Python\\envs\\arcgispro-py3\\lib\\site-packages\\ipykernel_launcher.py:4: DeprecationWarning: find_elements_by_class_name is deprecated. Please use find_elements(by=By.CLASS_NAME, value=name) instead\n",
      "  after removing the cwd from sys.path.\n"
     ]
    },
    {
     "ename": "IndexError",
     "evalue": "list index out of range",
     "output_type": "error",
     "traceback": [
      "\u001b[1;31m---------------------------------------------------------------------------\u001b[0m",
      "\u001b[1;31mIndexError\u001b[0m                                Traceback (most recent call last)",
      "\u001b[1;32m<ipython-input-9-04ad993dcfde>\u001b[0m in \u001b[0;36m<module>\u001b[1;34m\u001b[0m\n\u001b[0;32m      3\u001b[0m \u001b[1;31m# find the keywords/location search bars:\u001b[0m\u001b[1;33m\u001b[0m\u001b[1;33m\u001b[0m\u001b[1;33m\u001b[0m\u001b[0m\n\u001b[0;32m      4\u001b[0m \u001b[0msearch_bars\u001b[0m \u001b[1;33m=\u001b[0m \u001b[0mdriver\u001b[0m\u001b[1;33m.\u001b[0m\u001b[0mfind_elements_by_class_name\u001b[0m\u001b[1;33m(\u001b[0m\u001b[1;34m'grid__col grid__col--lg-12 mb6'\u001b[0m\u001b[1;33m)\u001b[0m\u001b[1;33m\u001b[0m\u001b[1;33m\u001b[0m\u001b[0m\n\u001b[1;32m----> 5\u001b[1;33m \u001b[0msearch_keywords\u001b[0m \u001b[1;33m=\u001b[0m \u001b[0msearch_bars\u001b[0m\u001b[1;33m[\u001b[0m\u001b[1;36m0\u001b[0m\u001b[1;33m]\u001b[0m\u001b[1;33m\u001b[0m\u001b[1;33m\u001b[0m\u001b[0m\n\u001b[0m\u001b[0;32m      6\u001b[0m \u001b[0msearch_keywords\u001b[0m\u001b[1;33m.\u001b[0m\u001b[0msend_keys\u001b[0m\u001b[1;33m(\u001b[0m\u001b[0mkeywords\u001b[0m\u001b[1;33m)\u001b[0m\u001b[1;33m\u001b[0m\u001b[1;33m\u001b[0m\u001b[0m\n\u001b[0;32m      7\u001b[0m \u001b[1;33m\u001b[0m\u001b[0m\n",
      "\u001b[1;31mIndexError\u001b[0m: list index out of range"
     ]
    }
   ],
   "source": [
    "\n",
    "driver.get(\"https://www.linkedin.com/my-items/saved-jobs/\")\n",
    "time.sleep(3)\n",
    "# find the keywords/location search bars:\n"
   ]
  },
  {
   "cell_type": "code",
   "execution_count": 17,
   "metadata": {},
   "outputs": [
    {
     "name": "stdout",
     "output_type": "stream",
     "text": [
      "[<selenium.webdriver.remote.webelement.WebElement (session=\"1cbdc8d0b4dd911b9d96c36c3bb495b3\", element=\"eb0b71bb-5c4c-4403-af37-7d69ddff2999\")>, <selenium.webdriver.remote.webelement.WebElement (session=\"1cbdc8d0b4dd911b9d96c36c3bb495b3\", element=\"b7d00fb6-bfa7-4b9c-b3d2-cfcfe3cdafa6\")>, <selenium.webdriver.remote.webelement.WebElement (session=\"1cbdc8d0b4dd911b9d96c36c3bb495b3\", element=\"676cf983-71d8-4880-8ba1-67c6de640a50\")>, <selenium.webdriver.remote.webelement.WebElement (session=\"1cbdc8d0b4dd911b9d96c36c3bb495b3\", element=\"8e0c688a-0991-4920-b34c-b8cb8887b844\")>, <selenium.webdriver.remote.webelement.WebElement (session=\"1cbdc8d0b4dd911b9d96c36c3bb495b3\", element=\"3d7e2a8d-6b9a-46ef-9afb-b3005ae56f23\")>, <selenium.webdriver.remote.webelement.WebElement (session=\"1cbdc8d0b4dd911b9d96c36c3bb495b3\", element=\"e192a37a-1958-492a-97fa-5ab41a6dce36\")>, <selenium.webdriver.remote.webelement.WebElement (session=\"1cbdc8d0b4dd911b9d96c36c3bb495b3\", element=\"8f1a5ac8-ab6e-409c-8ce0-09aa74ae96cb\")>, <selenium.webdriver.remote.webelement.WebElement (session=\"1cbdc8d0b4dd911b9d96c36c3bb495b3\", element=\"ea427eed-09f5-44a6-987e-a3dff75388eb\")>, <selenium.webdriver.remote.webelement.WebElement (session=\"1cbdc8d0b4dd911b9d96c36c3bb495b3\", element=\"4236e5c9-1736-437c-ab30-bedfab42d3ae\")>, <selenium.webdriver.remote.webelement.WebElement (session=\"1cbdc8d0b4dd911b9d96c36c3bb495b3\", element=\"72700ba0-9d4b-468f-acf6-215648430634\")>]\n"
     ]
    },
    {
     "name": "stderr",
     "output_type": "stream",
     "text": [
      "C:\\ArcGISPro\\bin\\Python\\envs\\arcgispro-py3\\lib\\site-packages\\ipykernel_launcher.py:1: DeprecationWarning: find_elements_by_class_name is deprecated. Please use find_elements(by=By.CLASS_NAME, value=name) instead\n",
      "  \"\"\"Entry point for launching an IPython kernel.\n"
     ]
    }
   ],
   "source": [
    "x = driver.find_elements_by_class_name(\"entity-result__item\")\n",
    "print(x)"
   ]
  },
  {
   "cell_type": "code",
   "execution_count": 12,
   "metadata": {},
   "outputs": [
    {
     "name": "stdout",
     "output_type": "stream",
     "text": [
      "[]\n"
     ]
    }
   ],
   "source": [
    "print(search_bars)"
   ]
  },
  {
   "cell_type": "code",
   "execution_count": null,
   "metadata": {},
   "outputs": [],
   "source": []
  },
  {
   "cell_type": "code",
   "execution_count": null,
   "metadata": {},
   "outputs": [],
   "source": []
  },
  {
   "cell_type": "code",
   "execution_count": null,
   "metadata": {},
   "outputs": [],
   "source": []
  }
 ],
 "metadata": {
  "kernelspec": {
   "display_name": "Python 3",
   "language": "python",
   "name": "python3"
  },
  "language_info": {
   "codemirror_mode": {
    "name": "ipython",
    "version": 3
   },
   "file_extension": ".py",
   "mimetype": "text/x-python",
   "name": "python",
   "nbconvert_exporter": "python",
   "pygments_lexer": "ipython3",
   "version": "3.7.9"
  }
 },
 "nbformat": 4,
 "nbformat_minor": 4
}
