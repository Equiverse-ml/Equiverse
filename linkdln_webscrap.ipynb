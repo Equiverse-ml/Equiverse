{
 "cells": [
  {
   "cell_type": "code",
   "execution_count": null,
   "metadata": {},
   "outputs": [],
   "source": []
  },
  {
   "cell_type": "code",
   "execution_count": 63,
   "metadata": {},
   "outputs": [
    {
     "name": "stdout",
     "output_type": "stream",
     "text": [
      "[['Hiring for .Net core with Web API', 'Best Infosystems Ltd.', 'Pune, Maharashtra, India', '4 weeks ago'], ['Dotnet,C,Angular-ALGO-DB', 'eNFLUENCE IT Services', 'Mumbai, Maharashtra, India', '3 weeks ago'], ['\"R & D Developer\"', 'GUPTA ASSOCIATES LIMITED', 'Delhi, Delhi, India', '1 week ago'], ['Hiring for .Net core with Web API', 'Best Infosystems Ltd.', 'Kolkata, West Bengal, India', '4 weeks ago'], ['Full Stack Development Internship in Bangalore at Bon Tech Solutions', 'Bon Tech Solutions', 'Bengaluru, Karnataka, India', '7 days ago'], ['PostgreSQL', 'Tata Consultancy Services', 'Chennai, Tamil Nadu, India', '3 days ago'], ['Hiring for .Net core with Web API', 'Best Infosystems Ltd.', 'Noida, Uttar Pradesh, India', '4 weeks ago'], ['Unity Game Development Internship in Hyderabad at Butterfly Fields Private Limited', 'Butterfly Fields Private Limited', 'Hyderabad, Telangana, India', '5 days ago'], ['Senior Java Software Engineer', 'Kerua Softech OPC Private Limited', 'India', '1 week ago'], ['Senior Software Engineer - .Net', 'RateGain', 'Noida, Uttar Pradesh, India', '4 weeks ago'], ['Kafka', 'Tata Consultancy Services', 'Bengaluru, Karnataka, India', '4 weeks ago'], ['Urgent hiring For Senior Asp.net Developer', 'MNR Solutions Pvt. Ltd', 'Hyderabad, Telangana, India', '3 weeks ago'], ['.NET - Women on Break', 'Her Second Innings', 'Bengaluru, Karnataka, India', '4 days ago'], ['Game Development Internship in Bangalore at Knackbout Studio Private Limited', 'Knackbout Studio Private Limited', 'Bengaluru, Karnataka, India', '4 weeks ago'], ['DOT Net core with Web API', 'Best Infosystems Ltd.', 'Pune, Maharashtra, India', '6 days ago'], ['Urgent Hiring For Senior Asp.net Developer', 'MNR Solutions Pvt. Ltd', 'Noida, Uttar Pradesh, India', '4 weeks ago'], ['Software Developer', 'OnProcess', 'Greater Kolkata Area', '7 days ago'], ['C# Development Internship in Bangalore at PiChain Innovations Private Limited', 'PiChain', 'Bengaluru, Karnataka, India', '4 weeks ago'], ['.NET Framework', 'Edu Angels India Private Limited', 'Pune, Maharashtra, India', '6 days ago'], ['Urgent hiring For Senior Asp.net Developer', 'MNR Solutions Pvt. Ltd', 'Pune, Maharashtra, India', '1 week ago'], ['.Net/Azure Developers', 'Emtec Inc.', 'Pune, Maharashtra, India', '6 days ago'], ['PostgreSQL', 'Mindtree', 'Bengaluru, Karnataka, India', '1 week ago'], ['Urgent hiring For Senior Asp.net Developer', 'MNR Solutions Pvt. Ltd', 'Noida, Uttar Pradesh, India', '2 hours ago'], ['Java Software Developer', 'Emproto Technologies', 'Bengaluru, Karnataka, India', 'Just now'], ['ASP.NET MVC Deeveloper', 'Jarvis Technolabs', 'Ahmedabad, Gujarat, India', '48 minutes ago']]\n"
     ]
    }
   ],
   "source": [
    "import requests\n",
    "from bs4 import BeautifulSoup\n",
    "import csv\n",
    "   \n",
    "\n",
    "def search_job(job_type,location_preferred):\n",
    "\n",
    "    URL=\"https://www.linkedin.com/jobs/search/?&keywords=\"+str(job_type)+\"&location=\"+str(loc)\n",
    "    r = requests.get(URL)\n",
    "\n",
    "    soup = BeautifulSoup(r.content , 'html.parser')\n",
    "\n",
    "\n",
    "    company = soup.find_all(class_=\"base-search-card__subtitle\")\n",
    "\n",
    "    companies = []\n",
    "\n",
    "    for i in company:\n",
    "\n",
    "        s = i.text \n",
    "\n",
    "        s = s.replace(\"\\n\",\"\")\n",
    "\n",
    "        s = s.strip()\n",
    "\n",
    "        companies.append(s)\n",
    "\n",
    "\n",
    "    location = soup.find_all(class_=\"job-search-card__location\")\n",
    "\n",
    "    locations = []\n",
    "\n",
    "    for i in location:\n",
    "        s = i.text\n",
    "        s = s.replace(\"\\n\",\"\")\n",
    "\n",
    "        s = s.strip()\n",
    "\n",
    "        locations.append(s)\n",
    "\n",
    "    time_old = soup.find_all(class_=\"job-search-card__listdate\")\n",
    "    time_new = soup.find_all(class_=\"job-search-card__listdate--new\")\n",
    "    time = time_old + time_new\n",
    "\n",
    "    times_posted = []\n",
    "\n",
    "    for i in time:\n",
    "        s = i.text \n",
    "        s = s.replace(\"\\n\",\"\")\n",
    "        s = s.strip()\n",
    "\n",
    "        times_posted.append(s)\n",
    "\n",
    "    job = soup.find_all(class_=\"base-search-card__title\")\n",
    "    job_name = []\n",
    "\n",
    "    for i in job:\n",
    "        s = i.text\n",
    "        s = s.replace(\"\\n\", \"\")\n",
    "        s = s.strip()\n",
    "        job_name.append(s)\n",
    "\n",
    "    all_info = []\n",
    "    \n",
    "    for jb,cp,locate,time in zip(job_name,companies,locations,times_posted):\n",
    "        \n",
    "        all_info.append([jb,cp,locate,time])\n",
    "        \n",
    "    print(all_info)\n",
    "        \n",
    "        \n",
    "    \n",
    "job=\"sde\"\n",
    "loc=\"USA\"\n",
    "search_job(job,loc)\n",
    "\n"
   ]
  },
  {
   "cell_type": "code",
   "execution_count": 58,
   "metadata": {},
   "outputs": [
    {
     "name": "stdout",
     "output_type": "stream",
     "text": [
      "['Best Infosystems Ltd.', 'Best Infosystems Ltd.', 'Bosch Group', 'eNFLUENCE IT Services', 'EXPERTIZ', 'DigiVersal', 'WsCube Tech', 'Best Infosystems Ltd.', 'Bon Tech Solutions', 'Wipro', 'Addis Infotech', 'Tata Consultancy Services', 'Wipro', 'OM SOFTWARE', 'Best Infosystems Ltd.', 'Flam', 'Trellix', 'SURANA EQUITY PVT. LTD.', 'Evolveware Information Technology (I ) Private Limited', 'Butterfly Fields Private Limited', 'PRI INDIA IT SERVICES PRIVATE LIMITED', 'Kerua Softech OPC Private Limited', 'RateGain', 'Tata Consultancy Services', 'Her Second Innings']\n"
     ]
    }
   ],
   "source": [
    "print(companies)"
   ]
  },
  {
   "cell_type": "code",
   "execution_count": 59,
   "metadata": {},
   "outputs": [
    {
     "name": "stdout",
     "output_type": "stream",
     "text": [
      "['Pune, Maharashtra, India', 'Chennai, Tamil Nadu, India', 'Bengaluru, Karnataka, India', 'Mumbai, Maharashtra, India', 'Mumbai, Maharashtra, India', 'Gautam Buddha Nagar, Uttar Pradesh, India', 'Jodhpur, Rajasthan, India', 'Kolkata, West Bengal, India', 'Bengaluru, Karnataka, India', 'Pune, Maharashtra, India', 'Ahmedabad, Gujarat, India', 'Chennai, Tamil Nadu, India', 'Pune, Maharashtra, India', 'Pune, Maharashtra, India', 'Noida, Uttar Pradesh, India', 'Bengaluru, Karnataka, India', 'Bengaluru, Karnataka, India', 'Surat, Gujarat, India', 'Pune, Maharashtra, India', 'Hyderabad, Telangana, India', 'Pune, Maharashtra, India', 'India', 'Noida, Uttar Pradesh, India', 'Bengaluru, Karnataka, India', 'Bengaluru, Karnataka, India']\n"
     ]
    }
   ],
   "source": [
    "print(locations)"
   ]
  },
  {
   "cell_type": "code",
   "execution_count": 60,
   "metadata": {},
   "outputs": [
    {
     "name": "stdout",
     "output_type": "stream",
     "text": [
      "['4 weeks ago', '4 weeks ago', '4 weeks ago', '3 weeks ago', '4 weeks ago', '4 weeks ago', '4 weeks ago', '4 weeks ago', '7 days ago', '4 weeks ago', '4 weeks ago', '3 days ago', '4 weeks ago', '4 weeks ago', '4 weeks ago', '4 weeks ago', '4 weeks ago', '4 weeks ago', '4 weeks ago', '5 days ago', '1 week ago', '4 weeks ago', '3 weeks ago', '1 hour ago', '2 hours ago']\n"
     ]
    }
   ],
   "source": [
    "print(times_posted)"
   ]
  },
  {
   "cell_type": "code",
   "execution_count": 61,
   "metadata": {},
   "outputs": [
    {
     "name": "stdout",
     "output_type": "stream",
     "text": [
      "['Hiring for .Net core with Web API', 'Hiring for .Net core with Web API', 'IJR-Powertrain modernisation initiatives -Function and Software Developer(Gasolene, Hybrid, H2-ICE, FCCU software)', 'Dotnet,C,Angular-ALGO-DB', 'PHP Lead/Sr PHP programmer', 'Senior PHP Developer', 'Asp .Net Developer', 'Hiring for .Net core with Web API', 'Full Stack Development Internship in Bangalore at Bon Tech Solutions', 'ASP.NET MVC 5-Lead', 'Sr ASP.Net MVC Developer', 'PostgreSQL', 'Java-J2EE-Lead', 'ASP.NET(MV)', 'Hiring for .Net core with Web API', 'Senior Unity Developer', 'Software Development Engineer', 'Senior PHP Programmer', 'EvolveWare - .Net Developer - C#/SQL Server', 'Unity Game Development Internship in Hyderabad at Butterfly Fields Private Limited', 'Sr Java Developer', 'Senior Java Software Engineer', 'Senior Software Engineer - .Net', 'Kafka', '.NET - Women on Break']\n"
     ]
    }
   ],
   "source": [
    "print(job_name)"
   ]
  },
  {
   "cell_type": "code",
   "execution_count": null,
   "metadata": {},
   "outputs": [],
   "source": []
  }
 ],
 "metadata": {
  "kernelspec": {
   "display_name": "Python 3",
   "language": "python",
   "name": "python3"
  },
  "language_info": {
   "codemirror_mode": {
    "name": "ipython",
    "version": 3
   },
   "file_extension": ".py",
   "mimetype": "text/x-python",
   "name": "python",
   "nbconvert_exporter": "python",
   "pygments_lexer": "ipython3",
   "version": "3.7.3"
  }
 },
 "nbformat": 4,
 "nbformat_minor": 2
}
